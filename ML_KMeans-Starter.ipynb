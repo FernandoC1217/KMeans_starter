{
 "cells": [
  {
   "cell_type": "markdown",
   "metadata": {},
   "source": [
    "<a href=\"https://www.instagram.com/ieeecs.utp/\"><img src=\"LogoFondoBlanco.jpg\" width=\"400\" align=\"center\"></a>\n",
    "<h1><center>Algoritmo K-Means</center></h1>"
   ]
  },
  {
   "cell_type": "markdown",
   "metadata": {},
   "source": [
    "## Introducción\n",
    "\n",
    "Hay muchos modelos para la **agrupación** por ahí. En este cuaderno, presentaremos el modelo que se considera uno de los más simples entre ellos. A pesar de su simplicidad, el **K-means** se usa ampliamente para la agrupación en muchas aplicaciones de ciencia de datos, especialmente útil si necesitas descubrir rápidamente **información de datos no etiquetados**. En este cuaderno, aprenderás a usar k-Means para la segmentación de clientes.\n",
    "\n",
    "Algunas aplicaciones del mundo real de k-means:\n",
    "\n",
    "- Segmentación de clientes\n",
    "- Comprender lo que los visitantes de un sitio web intentan lograr\n",
    "- Reconocimiento de patrones\n",
    "- Aprendizaje automático\n",
    "- Compresión de datos\n",
    "\n",
    "En este cuaderno practicamos el agrupamiento de k-means con 2 ejemplos:\n",
    "- Aplicando k-means en un conjunto de datos generado aleatoriamente\n",
    "- Usando k-means para la segmentación de clientes"
   ]
  },
  {
   "cell_type": "code",
   "execution_count": 1,
   "metadata": {
    "ExecuteTime": {
     "end_time": "2020-05-03T03:50:14.087464Z",
     "start_time": "2020-05-03T03:50:14.082476Z"
    }
   },
   "outputs": [],
   "source": [
    "# Que empiece el código"
   ]
  },
  {
   "cell_type": "code",
   "execution_count": null,
   "metadata": {},
   "outputs": [],
   "source": []
  },
  {
   "cell_type": "code",
   "execution_count": null,
   "metadata": {},
   "outputs": [],
   "source": []
  },
  {
   "cell_type": "code",
   "execution_count": null,
   "metadata": {},
   "outputs": [],
   "source": []
  },
  {
   "cell_type": "code",
   "execution_count": null,
   "metadata": {},
   "outputs": [],
   "source": []
  },
  {
   "cell_type": "markdown",
   "metadata": {},
   "source": [
    "<h2>¿Quieres aprender más?</h2>\n",
    "\n",
    "Sígue al IEEE Computer Society en instagram \n",
    "<a href=\"https://www.instagram.com/ieeecs.utp/\">@ieeecs.utp</a>\n",
    "\n",
    "<a href=\"https://www.instagram.com/ieeecs.utp/\"><img src=\"LOGO WHATSAPP-01.png\" width=\"200\" align=\"center\"></a>\n",
    "\n",
    "<h3>Excelente has completado esta seccion</h3>\n",
    "\n",
    "<h4>Autor:  <a href=\"https://www.linkedin.com/in/fernando-cutire-044357182/\">Fernando Cutire</a></h4>\n",
    "<p><a href=\"https://www.linkedin.com/in/fernando-cutire-044357182/\">Fernando Cutire</a>, estudiante de Ingeniería en sistemas. Entusiasta de las disciplinas de ciencia de datos, desarrollo fullstack. Cuando no estoy programando estoy haciendo música o sino contribuyendo al desarrollo de los grupos en los que estoy. Suelo crear proyectos con regularidad, chatéame en <a href=\"https://twitter.com/FerC1217\">twitter</a>\n",
    " y visita mi <a href=\"https://github.com/FernandoC1217\"> github</a>\n",
    " </p>\n",
    "\n",
    "<hr>\n",
    "\n",
    "<a href=\"https://github.com/FernandoC1217\"> </a>\n",
    "\n",
    "<p>Copyright &copy; 2020 This notebook and its source code are released under the terms of the <a href=\"https://bigdatauniversity.com/mit-license/\">MIT License</a>.</p>"
   ]
  },
  {
   "cell_type": "code",
   "execution_count": null,
   "metadata": {},
   "outputs": [],
   "source": []
  }
 ],
 "metadata": {
  "kernelspec": {
   "display_name": "Python 3",
   "language": "python",
   "name": "python3"
  },
  "language_info": {
   "codemirror_mode": {
    "name": "ipython",
    "version": 3
   },
   "file_extension": ".py",
   "mimetype": "text/x-python",
   "name": "python",
   "nbconvert_exporter": "python",
   "pygments_lexer": "ipython3",
   "version": "3.7.3"
  },
  "toc": {
   "base_numbering": 1,
   "nav_menu": {},
   "number_sections": true,
   "sideBar": true,
   "skip_h1_title": false,
   "title_cell": "Table of Contents",
   "title_sidebar": "Contents",
   "toc_cell": false,
   "toc_position": {
    "height": "calc(100% - 180px)",
    "left": "10px",
    "top": "150px",
    "width": "294.4px"
   },
   "toc_section_display": true,
   "toc_window_display": false
  },
  "varInspector": {
   "cols": {
    "lenName": 16,
    "lenType": 16,
    "lenVar": 40
   },
   "kernels_config": {
    "python": {
     "delete_cmd_postfix": "",
     "delete_cmd_prefix": "del ",
     "library": "var_list.py",
     "varRefreshCmd": "print(var_dic_list())"
    },
    "r": {
     "delete_cmd_postfix": ") ",
     "delete_cmd_prefix": "rm(",
     "library": "var_list.r",
     "varRefreshCmd": "cat(var_dic_list()) "
    }
   },
   "types_to_exclude": [
    "module",
    "function",
    "builtin_function_or_method",
    "instance",
    "_Feature"
   ],
   "window_display": false
  }
 },
 "nbformat": 4,
 "nbformat_minor": 2
}
